{
 "cells": [
  {
   "cell_type": "code",
   "execution_count": 1,
   "metadata": {},
   "outputs": [],
   "source": [
    "from zipfile import ZipFile\n",
    "import os"
   ]
  },
  {
   "cell_type": "code",
   "execution_count": 2,
   "metadata": {},
   "outputs": [],
   "source": [
    "directory = r'C:\\Users\\320088652\\OneDrive - Philips\\TUe\\eMTIC\\Pancreas_BB\\Pancreas_BB\\CT scans\\CT scans controle groep\\temp'"
   ]
  },
  {
   "cell_type": "code",
   "execution_count": 3,
   "metadata": {},
   "outputs": [],
   "source": [
    "for filename in os.listdir(directory):\n",
    "    if filename.endswith(\".zip\"):\n",
    "        # if int(filename[:-4]) < 1067:\n",
    "        #     continue\n",
    "        with ZipFile(os.path.join(directory, filename), 'r') as zipObj:\n",
    "            # Extract all the contents of zip file in current directory\n",
    "            zipObj.extractall(directory)\n",
    "    else:\n",
    "        continue\n",
    "\n"
   ]
  },
  {
   "cell_type": "code",
   "execution_count": 1,
   "metadata": {},
   "outputs": [],
   "source": [
    "import py7zr"
   ]
  },
  {
   "cell_type": "code",
   "execution_count": 2,
   "metadata": {},
   "outputs": [],
   "source": [
    "directory = r'D:\\Documents\\EMTIC\\Lung\\zipped'"
   ]
  },
  {
   "cell_type": "code",
   "execution_count": 3,
   "metadata": {},
   "outputs": [],
   "source": [
    "for filename in os.listdir(directory):\n",
    "    if filename.endswith(\".7z\"):\n",
    "        # if int(filename[:-4]) < 1067:\n",
    "        #     continue\n",
    "        with py7zr.SevenZipFile(os.path.join(directory, filename), 'r') as zipObj:\n",
    "            # Extract all the contents of zip file in current directory\n",
    "            zipObj.extractall(directory)\n",
    "    else:\n",
    "        continue"
   ]
  },
  {
   "cell_type": "code",
   "execution_count": null,
   "metadata": {},
   "outputs": [],
   "source": []
  }
 ],
 "metadata": {
  "interpreter": {
   "hash": "6cfd8a935a17cb1c29249e22d28de3bbf1daddbc779356124f8ed710af677c6d"
  },
  "kernelspec": {
   "display_name": "Python 3.8.0 64-bit ('analysis38_env': venv)",
   "name": "python3"
  },
  "language_info": {
   "codemirror_mode": {
    "name": "ipython",
    "version": 3
   },
   "file_extension": ".py",
   "mimetype": "text/x-python",
   "name": "python",
   "nbconvert_exporter": "python",
   "pygments_lexer": "ipython3",
   "version": "3.8.0"
  },
  "orig_nbformat": 2
 },
 "nbformat": 4,
 "nbformat_minor": 2
}
