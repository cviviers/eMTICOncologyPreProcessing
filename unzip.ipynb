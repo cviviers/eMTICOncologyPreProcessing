{
 "metadata": {
  "language_info": {
   "codemirror_mode": {
    "name": "ipython",
    "version": 3
   },
   "file_extension": ".py",
   "mimetype": "text/x-python",
   "name": "python",
   "nbconvert_exporter": "python",
   "pygments_lexer": "ipython3",
   "version": "3.8.0"
  },
  "orig_nbformat": 2,
  "kernelspec": {
   "name": "python3",
   "display_name": "Python 3.8.0 64-bit ('analysis38_env': venv)"
  },
  "interpreter": {
   "hash": "6cfd8a935a17cb1c29249e22d28de3bbf1daddbc779356124f8ed710af677c6d"
  }
 },
 "nbformat": 4,
 "nbformat_minor": 2,
 "cells": [
  {
   "cell_type": "code",
   "execution_count": 1,
   "source": [
    "from zipfile import ZipFile\r\n",
    "import os"
   ],
   "outputs": [],
   "metadata": {}
  },
  {
   "cell_type": "code",
   "execution_count": 2,
   "source": [
    "directory = r'C:\\Users\\320088652\\OneDrive - Philips\\TUe\\eMTIC\\Pancreas_BB\\Pancreas_BB\\CT scans\\CT scans controle groep\\temp'"
   ],
   "outputs": [],
   "metadata": {}
  },
  {
   "cell_type": "code",
   "execution_count": 3,
   "source": [
    "for filename in os.listdir(directory):\r\n",
    "    if filename.endswith(\".zip\"):\r\n",
    "        # if int(filename[:-4]) < 1067:\r\n",
    "        #     continue\r\n",
    "        with ZipFile(os.path.join(directory, filename), 'r') as zipObj:\r\n",
    "            # Extract all the contents of zip file in current directory\r\n",
    "            zipObj.extractall(directory)\r\n",
    "    else:\r\n",
    "        continue\r\n",
    "\r\n"
   ],
   "outputs": [],
   "metadata": {}
  },
  {
   "cell_type": "code",
   "execution_count": null,
   "source": [],
   "outputs": [],
   "metadata": {}
  }
 ]
}