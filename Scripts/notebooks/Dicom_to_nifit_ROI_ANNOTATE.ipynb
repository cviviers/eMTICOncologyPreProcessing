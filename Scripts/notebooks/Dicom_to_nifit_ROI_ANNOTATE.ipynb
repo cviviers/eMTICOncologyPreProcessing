{
 "metadata": {
  "language_info": {
   "codemirror_mode": {
    "name": "ipython",
    "version": 3
   },
   "file_extension": ".py",
   "mimetype": "text/x-python",
   "name": "python",
   "nbconvert_exporter": "python",
   "pygments_lexer": "ipython3",
   "version": "3.8.0-final"
  },
  "orig_nbformat": 2,
  "kernelspec": {
   "name": "python3",
   "display_name": "Python 3",
   "language": "python"
  }
 },
 "nbformat": 4,
 "nbformat_minor": 2,
 "cells": [
  {
   "cell_type": "code",
   "execution_count": 1,
   "metadata": {},
   "outputs": [],
   "source": [
    "#!/usr/bin/env python\n",
    "import os\n",
    "import itk\n",
    "import numpy as np"
   ]
  },
  {
   "cell_type": "code",
   "execution_count": 2,
   "metadata": {},
   "outputs": [],
   "source": [
    "PixelType = itk.ctype('signed short')\n",
    "Dimension = 3\n",
    "\n",
    "ImageType = itk.Image[PixelType, Dimension]"
   ]
  },
  {
   "source": [
    "[237 203  59]\n",
    "[306 277 124]"
   ],
   "cell_type": "markdown",
   "metadata": {}
  },
  {
   "cell_type": "code",
   "execution_count": 8,
   "metadata": {},
   "outputs": [],
   "source": [
    "start = itk.Index[Dimension]()\n",
    "start[0] = 237 # startx\n",
    "start[1] = 203 # starty\n",
    "start[2] = 59 # start along Z"
   ]
  },
  {
   "cell_type": "code",
   "execution_count": 9,
   "metadata": {},
   "outputs": [],
   "source": [
    "end = itk.Index[Dimension]()\n",
    "end[0] = 306 # endx\n",
    "end[1] = 277 # endy\n",
    "end[2] = 124 # size along Z"
   ]
  },
  {
   "cell_type": "code",
   "execution_count": 10,
   "metadata": {},
   "outputs": [],
   "source": [
    "region = itk.ImageRegion[Dimension]()\n",
    "region.SetIndex(start)\n",
    "region.SetUpperIndex(end)"
   ]
  },
  {
   "cell_type": "code",
   "execution_count": 11,
   "metadata": {},
   "outputs": [
    {
     "output_type": "execute_result",
     "data": {
      "text/plain": [
       "itkSize3 ([70, 75, 66])"
      ]
     },
     "metadata": {},
     "execution_count": 11
    }
   ],
   "source": [
    "region.GetSize()"
   ]
  },
  {
   "cell_type": "code",
   "execution_count": 12,
   "metadata": {},
   "outputs": [],
   "source": [
    "# Annotation directory\n",
    "annotations = ['Gastroduodenalis', 'AMS', 'Aorta', 'Pancreas', 'Splenic vein', 'Truncus', 'Vena Cava', 'Vena porta', 'VMI', 'Tumour']\n",
    "annDir = r'C:\\Users\\320088652\\OneDrive - Philips\\TUe\\eMTIC\\Pancreas_BB\\Pancreas_BB\\Detail annotaties\\Detail Vaat(-)\\1051\\par\\Patient 1051_1051\\No study description\\Patient 1051 10 S__(10-30-2020_15-49-03-7515)'"
   ]
  },
  {
   "cell_type": "code",
   "execution_count": 13,
   "metadata": {},
   "outputs": [],
   "source": [
    "dirName = r'C:\\Users\\320088652\\OneDrive - Philips\\TUe\\eMTIC\\Pancreas_BB\\Pancreas_BB\\CT scans\\CT scans Vaat (-)\\1051\\DICOM\\00009A75\\AAE6AB16\\AAC56CFF\\0000E6BD'"
   ]
  },
  {
   "cell_type": "code",
   "execution_count": 14,
   "metadata": {},
   "outputs": [],
   "source": [
    "namesGenerator = itk.GDCMSeriesFileNames.New()\n",
    "namesGenerator.SetUseSeriesDetails(True)\n",
    "namesGenerator.AddSeriesRestriction(\"0008|0021\")\n",
    "namesGenerator.SetGlobalWarningDisplay(False)\n",
    "namesGenerator.SetDirectory(dirName)"
   ]
  },
  {
   "cell_type": "code",
   "execution_count": 15,
   "metadata": {},
   "outputs": [],
   "source": [
    "seriesUID = namesGenerator.GetSeriesUIDs()"
   ]
  },
  {
   "cell_type": "code",
   "execution_count": 16,
   "metadata": {},
   "outputs": [
    {
     "output_type": "execute_result",
     "data": {
      "text/plain": [
       "('1.2.840.113704.1.111.3040.1457369623.36.101.00512512',)"
      ]
     },
     "metadata": {},
     "execution_count": 16
    }
   ],
   "source": [
    "seriesUID"
   ]
  },
  {
   "cell_type": "code",
   "execution_count": 17,
   "metadata": {},
   "outputs": [],
   "source": [
    "if len(seriesUID) < 1:\n",
    "    print('No DICOMs in: ' + dirName)\n",
    "    sys.exit(1)"
   ]
  },
  {
   "cell_type": "code",
   "execution_count": 18,
   "metadata": {},
   "outputs": [
    {
     "output_type": "stream",
     "name": "stdout",
     "text": [
      "The directory: C:\\Users\\320088652\\OneDrive - Philips\\TUe\\eMTIC\\Pancreas_BB\\Pancreas_BB\\CT scans\\CT scans Vaat (-)\\1051\\DICOM\\00009A75\\AAE6AB16\\AAC56CFF\\0000E6BD\nContains the following DICOM Series: \n1.2.840.113704.1.111.3040.1457369623.36.101.00512512\n"
     ]
    }
   ],
   "source": [
    "print('The directory: ' + dirName)\n",
    "print('Contains the following DICOM Series: ')\n",
    "for uid in seriesUID:\n",
    "    print(uid)\n",
    "\n"
   ]
  },
  {
   "cell_type": "code",
   "execution_count": 20,
   "metadata": {},
   "outputs": [
    {
     "output_type": "stream",
     "name": "stdout",
     "text": [
      "Reading: 1.2.840.113704.1.111.3040.1457369623.36.101.00512512\nReader\nitkSize3 ([512, 512, 223])\nImage (000001DCC6A919E0)\n  RTTI typeinfo:   class itk::Image<short,3>\n  Reference Count: 2\n  Modified Time: 6018\n  Debug: Off\n  Object Name: \n  Observers: \n    none\n  Source: (000001DCFB016650) \n  Source output name: Primary\n  Release Data: Off\n  Data Released: False\n  Global Release Data: Off\n  PipelineMTime: 5966\n  UpdateMTime: 0\n  RealTimeStamp: 0 seconds \n  LargestPossibleRegion: \n    Dimension: 3\n    Index: [0, 0, 0]\n    Size: [512, 512, 223]\n  BufferedRegion: \n    Dimension: 3\n    Index: [0, 0, 0]\n    Size: [0, 0, 0]\n  RequestedRegion: \n    Dimension: 3\n    Index: [0, 0, 0]\n    Size: [0, 0, 0]\n  Spacing: [0.683594, 0.683594, 1]\n  Origin: [-189.386, -27.2289, 245.4]\n  Direction: \n1 0 0\n0 1 0\n0 0 1\n\n  IndexToPointMatrix: \n0.683594 0 0\n0 0.683594 0\n0 0 1\n\n  PointToIndexMatrix: \n1.46286 0 0\n0 1.46286 0\n0 0 1\n\n  Inverse Direction: \n1 0 0\n0 1 0\n0 0 1\n\n  PixelContainer: \n    ImportImageContainer (000001DCFE547C60)\n      RTTI typeinfo:   class itk::ImportImageContainer<unsigned __int64,short>\n      Reference Count: 1\n      Modified Time: 5957\n      Debug: Off\n      Object Name: \n      Observers: \n        none\n      Pointer: 0000000000000000\n      Container manages memory: true\n      Size: 0\n      Capacity: 0\n\nOrigin\nitkPointD3 ([-189.386, -27.2289, 245.4])\n<itk.itkMatrixPython.itkMatrixD33; proxy of <Swig Object of type 'itkMatrixD33 *' at 0x000001DCFF30CAE0> >\nRegion of Interest\nitkSize3 ([70, 75, 66])\nImage (000001DCC6A91CB0)\n  RTTI typeinfo:   class itk::Image<short,3>\n  Reference Count: 2\n  Modified Time: 2861\n  Debug: Off\n  Object Name: \n  Observers: \n    none\n  Source: (000001DCFB02F170) \n  Source output name: Primary\n  Release Data: Off\n  Data Released: False\n  Global Release Data: Off\n  PipelineMTime: 6018\n  UpdateMTime: 0\n  RealTimeStamp: 0 seconds \n  LargestPossibleRegion: \n    Dimension: 3\n    Index: [237, 203, 59]\n    Size: [70, 75, 66]\n  BufferedRegion: \n    Dimension: 3\n    Index: [0, 0, 0]\n    Size: [0, 0, 0]\n  RequestedRegion: \n    Dimension: 3\n    Index: [0, 0, 0]\n    Size: [0, 0, 0]\n  Spacing: [0.683594, 0.683594, 1]\n  Origin: [-189.386, -27.2289, 245.4]\n  Direction: \n1 0 0\n0 1 0\n0 0 1\n\n  IndexToPointMatrix: \n0.683594 0 0\n0 0.683594 0\n0 0 1\n\n  PointToIndexMatrix: \n1.46286 0 0\n0 1.46286 0\n0 0 1\n\n  Inverse Direction: \n1 0 0\n0 1 0\n0 0 1\n\n  PixelContainer: \n    ImportImageContainer (000001DCFE546DE0)\n      RTTI typeinfo:   class itk::ImportImageContainer<unsigned __int64,short>\n      Reference Count: 1\n      Modified Time: 2845\n      Debug: Off\n      Object Name: \n      Observers: \n        none\n      Pointer: 0000000000000000\n      Container manages memory: true\n      Size: 0\n      Capacity: 0\n\nmetadata:  Dictionary use_count: 1\n\nWriting: C:\\Users\\320088652\\OneDrive - Philips\\TUe\\eMTIC\\Pancreas_BB\\Pancreas_BB\\CT scans\\CT scans Vaat (-)\\1051\\DICOM\\00009A75\\AAE6AB16\\AAC56CFF\\0000E6BD\\1.2.840.113704.1.111.3040.1457369623.36.101.00512512_data.nii.gz\n"
     ]
    }
   ],
   "source": [
    "seriesFound = False\n",
    "for uid in seriesUID:\n",
    "    seriesIdentifier = uid\n",
    "\n",
    "    print('Reading: ' + seriesIdentifier)\n",
    "\n",
    "    fileNames = namesGenerator.GetFileNames(seriesIdentifier)\n",
    "\n",
    "    reader = itk.ImageSeriesReader[ImageType].New()\n",
    "    \n",
    "    \n",
    "\n",
    "    dicomIO = itk.GDCMImageIO.New()\n",
    "    reader.SetImageIO(dicomIO)\n",
    "    reader.SetFileNames(fileNames)\n",
    "    reader.ForceOrthogonalDirectionOff()\n",
    "    header = dicomIO.GetMetaDataDictionary()\n",
    "\n",
    "    size = itk.size(reader)\n",
    "    print(\"Reader\")\n",
    "    print(size)\n",
    "    print(reader.GetOutput())\n",
    "\n",
    "    ROI = itk.ExtractImageFilter[ImageType, ImageType].New()\n",
    "    ROI.SetExtractionRegion(region)\n",
    "    ROI.SetInput(reader.GetOutput())\n",
    "\n",
    "\n",
    "    \n",
    "    spacing = reader.GetOutput().GetSpacing()\n",
    "    Origin = reader.GetOutput().GetOrigin()\n",
    "    print(\"Origin\")\n",
    "    print(Origin)\n",
    "    Direction = reader.GetOutput().GetDirection()\n",
    "    print(Direction)\n",
    "\n",
    "\n",
    "\n",
    "    # IndexToPointMatrix = ROI.GetOutput().GetOrigin()\n",
    "    # PointToIndexMatrix = ROI.GetOutput().GetOrigin()\n",
    "    #ROI.Update()\n",
    "\n",
    "    print(\"Region of Interest\")\n",
    "    size = itk.size(ROI)\n",
    "    print(size)\n",
    "    print(ROI.GetOutput())\n",
    "\n",
    "   \n",
    "    #spacing = itk.SpacingType(reader.GetOutput().GetSpacing())\n",
    "    # header.SetOutputSpacing()\n",
    "    # header.ChangeSpacingOn()\n",
    "    # header.UpdateOutputInformation()\n",
    "\n",
    "\n",
    "\n",
    "    all_labels = []\n",
    "\n",
    "    for ann in annotations:\n",
    "\n",
    "        print('ann:', ann)\n",
    "\n",
    "        labelfilelist = [file for file in os.listdir(annDir) if ann.lower() in file.lower()]\n",
    "\n",
    "        if len(labelfilelist) > 0:\n",
    "\n",
    "            labelfile = labelfilelist[0]\n",
    "\n",
    "            print('labelfile: ', labelfile)\n",
    "            labelpath = os.path.join(annDir, labelfile)\n",
    "\n",
    "            \n",
    "            MeshType = itk.Mesh[itk.SS,3]\n",
    "            \n",
    "            meshReader = itk.MeshFileReader[MeshType].New()\n",
    "            meshReader.SetFileName(labelpath)\n",
    "            meshReader.Update()\n",
    "\n",
    "            #print('Meshreaderout: ', meshReader.GetOutput())\n",
    "\n",
    "            #ImageType = itk.Image[itk.F, 3]\n",
    "\n",
    "            filter = itk.TriangleMeshToBinaryImageFilter[MeshType, ImageType].New()\n",
    "            filter.SetInput(meshReader.GetOutput())\n",
    "            filter.SetInfoImage(ROI.GetOutput())\n",
    "            filter.Update()\n",
    "\n",
    "            #print('filterout: ', filter.GetOutput())\n",
    "            image = np.array(itk.array_from_image(filter.GetOutput())).astype(np.bool)\n",
    "            all_labels.append(image)\n",
    "\n",
    "        else:\n",
    "            \n",
    "            imsize = reader.GetOutput().GetLargestPossibleRegion().GetSize()\n",
    "\n",
    "            image = np.zeros((imsize[2], imsize[1], imsize[0])).astype(np.bool)\n",
    "\n",
    "            all_labels.append(image)\n",
    "\n",
    "    # process label\n",
    "    print([ls.shape for ls in all_labels])\n",
    "    labels = np.stack(all_labels)\n",
    "    labelmap = labels.astype(np.uint8)\n",
    "    imsize = ROI.GetOutput().GetLargestPossibleRegion().GetSize()\n",
    "    #image = np.zeros((imsize[2], imsize[1], imsize[0])).astype(np.bool)\n",
    "    new_labelmap = np.concatenate((np.zeros((1,imsize[2],imsize[1],imsize[0])).astype(np.uint8), labelmap), axis=0)\n",
    "    \n",
    "    labelmap = new_labelmap.argmax(axis=0)\n",
    "    labelmap = labelmap.astype(np.short)\n",
    "    #labelmap[:,:,] = 0.\n",
    "    labelmap[-1, :,:] = 0.\n",
    "    print(labelmap.shape)\n",
    "\n",
    "    labelType = ImageType\n",
    "    labelmap = np.ascontiguousarray(labelmap)\n",
    "    itk_image = itk.GetImageFromArray(labelmap)\n",
    "    itk_image.SetMetaDataDictionary(ROI.GetMetaDataDictionary())\n",
    "    itk_image.Update()\n",
    "\n",
    "    header = itk.ChangeInformationImageFilter[ImageType].New()\n",
    "    header.SetInput(itk_image)\n",
    "    print(\"Header filter\")\n",
    "    header.SetOutputSpacing(reader.GetOutput().GetSpacing())\n",
    "    header.ChangeSpacingOn()\n",
    "    header.SetOutputOrigin(reader.GetOutput().GetOrigin())\n",
    "    header.ChangeOriginOn()\n",
    "    header.SetOutputDirection(reader.GetOutput().GetDirection())\n",
    "    header.ChangeDirectionOn()\n",
    "    header.UpdateOutputInformation()\n",
    "    print(header.GetOutput())\n",
    "\n",
    "    print(\"itk_image\")\n",
    "    print(itk_image.GetMetaDataDictionary())\n",
    "\n",
    "    writer = itk.ImageFileWriter[labelType].New()\n",
    "    writer.SetInput(header.GetOutput())\n",
    "    segmentation_name = os.path.join(dirName, seriesIdentifier + '_segmentation.nii.gz')\n",
    "    print(segmentation_name)\n",
    "    writer.SetFileName(segmentation_name)\n",
    "    writer.Update()\n",
    "\n",
    "\n",
    "    metadata = ROI.GetMetaDataDictionary()\n",
    "    print('metadata: ', metadata)\n",
    "\n",
    "    data_writer = itk.ImageFileWriter[ImageType].New()\n",
    "    outFileName = os.path.join(dirName, seriesIdentifier + '_data.nii.gz')\n",
    "    data_writer.SetFileName(outFileName)\n",
    "    data_writer.UseCompressionOn()\n",
    "    data_writer.SetInput(ROI.GetOutput())\n",
    "    print('Writing: ' + outFileName)\n",
    "    \n",
    "    data_writer.Update()\n",
    "\n",
    "    if seriesFound:\n",
    "        break"
   ]
  },
  {
   "cell_type": "code",
   "execution_count": null,
   "metadata": {},
   "outputs": [],
   "source": []
  },
  {
   "cell_type": "code",
   "execution_count": null,
   "metadata": {},
   "outputs": [],
   "source": []
  }
 ]
}