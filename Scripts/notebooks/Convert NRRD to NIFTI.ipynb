{
 "metadata": {
  "language_info": {
   "codemirror_mode": {
    "name": "ipython",
    "version": 3
   },
   "file_extension": ".py",
   "mimetype": "text/x-python",
   "name": "python",
   "nbconvert_exporter": "python",
   "pygments_lexer": "ipython3",
   "version": "3.8.5-final"
  },
  "orig_nbformat": 2,
  "kernelspec": {
   "name": "python3",
   "display_name": "Python 3",
   "language": "python"
  }
 },
 "nbformat": 4,
 "nbformat_minor": 2,
 "cells": [
  {
   "cell_type": "code",
   "execution_count": 11,
   "metadata": {},
   "outputs": [],
   "source": [
    "import nrrd # pip install pynrrd\n",
    "import nibabel as nib # pip install nibabel\n",
    "import numpy as np\n",
    "import os"
   ]
  },
  {
   "cell_type": "code",
   "execution_count": 12,
   "metadata": {},
   "outputs": [],
   "source": [
    "def find_leafes( root ):\n",
    "    \"\"\" finds folders with no subfolders \"\"\"\n",
    "    for root, dirs, files in os.walk(root):\n",
    "        if not dirs: # can't go deeper\n",
    "            return root"
   ]
  },
  {
   "cell_type": "code",
   "execution_count": 2,
   "metadata": {},
   "outputs": [],
   "source": [
    "number = 1051"
   ]
  },
  {
   "source": [
    "filename = r'E:\\Pancreas_BB\\Bounding boxes\\BB Tumor(+), Vaat(-)\\{}\\par\\11 Unnamed Series.nrrd'.format(number)"
   ],
   "cell_type": "code",
   "metadata": {},
   "execution_count": 4,
   "outputs": []
  },
  {
   "cell_type": "code",
   "execution_count": 5,
   "metadata": {},
   "outputs": [
    {
     "output_type": "stream",
     "name": "stdout",
     "text": [
      "(512, 512, 433) OrderedDict([('type', 'short'), ('dimension', 3), ('space', 'left-posterior-superior'), ('sizes', array([512, 512, 433])), ('space directions', array([[0.68359375, 0.        , 0.        ],\n       [0.        , 0.68359375, 0.        ],\n       [0.        , 0.        , 1.        ]])), ('kinds', ['domain', 'domain', 'domain']), ('endian', 'little'), ('encoding', 'gzip'), ('space origin', array([-190.38552856,  -27.22893143,   35.29998779]))])\n"
     ]
    }
   ],
   "source": [
    "# load nrrd \n",
    "_nrrd = nrrd.read(filename)\n",
    "data = _nrrd[0]\n",
    "header = _nrrd[1]\n",
    "print (data.shape, header)"
   ]
  },
  {
   "cell_type": "code",
   "execution_count": 6,
   "metadata": {},
   "outputs": [],
   "source": [
    "# save nifti\n",
    "img = nib.Nifti1Image(data, np.eye(4))\n",
    "nib.save(img,r'D:\\Projects\\eMTIC\\nnUNet\\data\\nnUNet_raw_data_base\\Task001_Segmentation\\labelsTr\\{}.nii.gz'.format(number))"
   ]
  },
  {
   "cell_type": "code",
   "execution_count": 14,
   "metadata": {},
   "outputs": [
    {
     "output_type": "execute_result",
     "data": {
      "text/plain": [
       "'E:\\\\Pancreas_BB\\\\Detail annotaties\\\\Detail Vaat(-)\\\\1053\\\\art\\\\Patient 1053_1053\\\\No study description\\\\Patient 1053 Art. S __(12-15-2020_11-32-57-7556)'"
      ]
     },
     "metadata": {},
     "execution_count": 14
    }
   ],
   "source": [
    "val = 1051\n",
    "annotation_folder = find_leafes(r'E:\\Pancreas_BB\\Detail annotaties\\Detail Vaat(-)\\{}'.format(val))"
   ]
  },
  {
   "cell_type": "code",
   "execution_count": null,
   "metadata": {},
   "outputs": [],
   "source": [
    "annotation_filename = os.path.join(annotation_folder, )"
   ]
  }
 ]
}