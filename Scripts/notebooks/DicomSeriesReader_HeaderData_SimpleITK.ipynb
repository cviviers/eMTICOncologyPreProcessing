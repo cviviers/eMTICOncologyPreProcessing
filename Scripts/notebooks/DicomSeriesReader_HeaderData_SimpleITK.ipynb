{
 "metadata": {
  "language_info": {
   "codemirror_mode": {
    "name": "ipython",
    "version": 3
   },
   "file_extension": ".py",
   "mimetype": "text/x-python",
   "name": "python",
   "nbconvert_exporter": "python",
   "pygments_lexer": "ipython3",
   "version": "3.8.0-final"
  },
  "orig_nbformat": 2,
  "kernelspec": {
   "name": "python3",
   "display_name": "Python 3",
   "language": "python"
  }
 },
 "nbformat": 4,
 "nbformat_minor": 2,
 "cells": [
  {
   "cell_type": "code",
   "execution_count": 3,
   "metadata": {},
   "outputs": [
    {
     "output_type": "stream",
     "name": "stdout",
     "text": [
      "(0008|0005) = = \"\"\n(0008|0008) = = \"ORIGINAL\\PRIMARY\\AXIAL\\HELIX\"\n(0008|0012) = = \"\"\n(0008|0013) = = \"\"\n(0008|0016) = = \"1.2.840.10008.5.1.4.1.1.2\"\n(0008|0018) = = \"1.2.840.113704.1.111.4992.1457369908.26633\"\n(0008|0020) = = \"\"\n(0008|0023) = = \"\"\n(0008|0030) = = \"\"\n(0008|0033) = = \"\"\n(0008|0050) = = \"RUP8DJF1PO\"\n(0008|0060) = = \"CT\"\n(0008|0070) = = \"Philips \"\n(0008|0090) = = \"\"\n(0008|1090) = = \"iCT 256 \"\n(0010|0010) = = \"Anonymous \"\n(0010|0020) = = \"ANONUP8DJF1GQ \"\n(0010|0021) = = \"anonymous \"\n(0010|0030) = = \"\"\n(0010|0040) = = \"O \"\n(0018|0010) = = \"\"\n(0018|0015) = = \"CT PANCREAS M...\"\n(0018|0022) = = \"HELIX \"\n(0018|0050) = = \"1.00\"\n(0018|0060) = = \"120 \"\n(0018|0088) = = \"1.0 \"\n(0018|0090) = = \"500 \"\n(0018|1020) = = \"3.2.0 \"\n(0018|1040) = = \"\"\n(0018|1041) = = \"\"\n(0018|1046) = = \"\"\n(0018|1049) = = \"\"\n(0018|1100) = = \"350 \"\n(0018|1120) = = \"0 \"\n(0018|1130) = = \"104.000000\"\n(0018|1140) = = \"CW\"\n(0018|1150) = = \"834 \"\n(0018|1151) = = \"137 \"\n(0018|1152) = = \"114 \"\n(0018|1160) = = \"B \"\n(0018|1210) = = \"B \"\n(0018|5100) = = \"FFS \"\n(0018|9323) = = \"Z DOM \"\n(0018|9324) = = \"5\"\n(0018|9345) = = \"7.70133\"\n(0020|000d) = = \"1.2.840.113704.1.111.3040.1457369294.1\"\n(0020|000e) = = \"1.2.840.113704.1.111.3040.1457369623.36\"\n(0020|0010) = = \"EUP8DJF1EN\"\n(0020|0011) = = \"10\"\n(0020|0012) = = \"\"\n(0020|0013) = = \"223 \"\n(0020|0032) = = \"-189.385535\\-27.228931\\245.400024 \"\n(0020|0037) = = \"1\\0\\0\\0\\1\\0 \"\n(0020|0052) = = \"1.2.840.113704.1.111.3040.1457369301.4\"\n(0020|0060) = = \"\"\n(0020|1040) = = \"\"\n(0020|1041) = = \"-245.40 \"\n(0028|0002) = = \"1\"\n(0028|0004) = = \"MONOCHROME2 \"\n(0028|0010) = = \"512\"\n(0028|0011) = = \"512\"\n(0028|0030) = = \".68359375\\.68359375 \"\n(0028|0100) = = \"16\"\n(0028|0101) = = \"16\"\n(0028|0102) = = \"15\"\n(0028|0103) = = \"1\"\n(0028|1050) = = \"00040\\00040 \"\n(0028|1051) = = \"00400\\00400 \"\n(0028|1052) = = \"-1024 \"\n(0028|1053) = = \"1 \"\n(0028|1054) = = \"US\"\nImage Size: (512, 512, 1)\nImage PixelType: 32-bit signed integer\n"
     ]
    }
   ],
   "source": [
    "#!/usr/bin/env python\n",
    "\n",
    "import SimpleITK as sitk\n",
    "import sys\n",
    "\n",
    "data_path = r\"C:\\Users\\320088652\\OneDrive - Philips\\TUe\\eMTIC\\Pancreas_BB\\Pancreas_BB\\CT scans\\CT scans Vaat (-)\\1051\\DICOM\\00009A75\\AAE6AB16\\AAC56CFF\\0000E6BD\\EE0B5ACA\"\n",
    "data_path = r\"C:\\Users\\320088652\\OneDrive - Philips\\TUe\\eMTIC\\Pancreas_BB\\Pancreas_BB\\CT scans\\CT scans Vaat (-)\\1051\\DICOM\\00009A75\\AAE6AB16\\AAC56CFF\\output\\EE0B45C3.dcm\"\n",
    "\n",
    "reader = sitk.ImageFileReader()\n",
    "\n",
    "reader.SetFileName(data_path)\n",
    "reader.LoadPrivateTagsOn()\n",
    "\n",
    "reader.ReadImageInformation()\n",
    "\n",
    "for k in reader.GetMetaDataKeys():\n",
    "    v = reader.GetMetaData(k)\n",
    "    print(f\"({k}) = = \\\"{v}\\\"\")\n",
    "\n",
    "print(f\"Image Size: {reader.GetSize()}\")\n",
    "print(f\"Image PixelType: {sitk.GetPixelIDValueAsString(reader.GetPixelID())}\")"
   ]
  },
  {
   "cell_type": "code",
   "execution_count": null,
   "metadata": {},
   "outputs": [],
   "source": []
  }
 ]
}