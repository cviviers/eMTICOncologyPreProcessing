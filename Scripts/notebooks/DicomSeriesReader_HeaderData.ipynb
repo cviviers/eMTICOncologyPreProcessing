{
 "metadata": {
  "language_info": {
   "codemirror_mode": {
    "name": "ipython",
    "version": 3
   },
   "file_extension": ".py",
   "mimetype": "text/x-python",
   "name": "python",
   "nbconvert_exporter": "python",
   "pygments_lexer": "ipython3",
   "version": "3.8.0-final"
  },
  "orig_nbformat": 2,
  "kernelspec": {
   "name": "python3",
   "display_name": "Python 3",
   "language": "python"
  }
 },
 "nbformat": 4,
 "nbformat_minor": 2,
 "cells": [
  {
   "cell_type": "code",
   "execution_count": 1,
   "metadata": {},
   "outputs": [],
   "source": [
    "import glob, os, sys \n",
    "import itk"
   ]
  },
  {
   "cell_type": "code",
   "execution_count": 2,
   "metadata": {},
   "outputs": [],
   "source": [
    "data_path = r\"C:\\Users\\320088652\\OneDrive - Philips\\TUe\\eMTIC\\Pancreas_BB\\Pancreas_BB\\CT scans\\CT scans Vaat (-)\\1051\\DICOM\\00009A75\\AAE6AB16\\AAC56CFF\\0000E6BD\""
   ]
  },
  {
   "cell_type": "code",
   "execution_count": 3,
   "metadata": {},
   "outputs": [],
   "source": [
    "PixelType = itk.ctype('signed short')\n",
    "Dimension = 3\n",
    "ImageType = itk.Image[PixelType, Dimension]"
   ]
  },
  {
   "cell_type": "code",
   "execution_count": 4,
   "metadata": {},
   "outputs": [],
   "source": [
    "namesGenerator = itk.GDCMSeriesFileNames.New()\n",
    "namesGenerator.SetUseSeriesDetails(True)\n",
    "#namesGenerator.AddSeriesRestriction(\"0008|0021\")\n",
    "#AddSeriesRestriction(\"0008|0021\")\n",
    "#AddSeriesRestriction(\"0018|0024\")\n",
    "#AddSeriesRestriction(\"0020|0011\")\n",
    "#AddSeriesRestriction(\"0018|0050\")\n",
    "#AddSeriesRestriction(\"0028|0010\")\n",
    "namesGenerator.SetGlobalWarningDisplay(False)\n",
    "namesGenerator.SetDirectory(data_path)\n",
    "\n",
    "seriesUID = namesGenerator.GetSeriesUIDs()"
   ]
  },
  {
   "cell_type": "code",
   "execution_count": 5,
   "metadata": {},
   "outputs": [
    {
     "output_type": "stream",
     "name": "stdout",
     "text": [
      "('1.2.840.113704.1.111.3040.1457369623.36',)\n"
     ]
    }
   ],
   "source": [
    "print(seriesUID)"
   ]
  },
  {
   "cell_type": "code",
   "execution_count": 8,
   "metadata": {},
   "outputs": [
    {
     "output_type": "stream",
     "name": "stdout",
     "text": [
      "Reading: 1.2.840.113704.1.111.3040.1457369623.36\n()\n<class 'itk.ITKCommonBasePython.itkMetaDataDictionary'>\n('ITK_non_uniform_sampling_deviation',)\n<class 'itk.ITKCommonBasePython.itkMetaDataDictionary'>\n"
     ]
    }
   ],
   "source": [
    "if len(seriesUID) < 1:\n",
    "    print('No DICOMs in: ' + data_path)\n",
    "    sys.exit(1)\n",
    "\n",
    "seriesFound = False\n",
    "for uid in seriesUID:\n",
    "    seriesIdentifier = uid\n",
    "\n",
    "    print('Reading: ' + seriesIdentifier)\n",
    "\n",
    "    fileNames = namesGenerator.GetFileNames(seriesIdentifier)\n",
    "\n",
    "    reader = itk.ImageSeriesReader[ImageType].New()\n",
    "    dicomIO = itk.GDCMImageIO.New()\n",
    "    dicomIO.LoadPrivateTagsOn()\n",
    "    #dicomIO.SetMaxSizeLoadEntry(0xffff)\n",
    "    dicomIO.SetKeepOriginalUID(True)\n",
    "    reader.SetImageIO(dicomIO)\n",
    "    reader.SetFileNames(fileNames)\n",
    "    reader.ForceOrthogonalDirectionOff()\n",
    "    reader.Update()\n",
    "    dictionary  = reader.GetMetaDataDictionary()\n",
    "    output = reader.GetOutput()\n",
    "    output_dict = output.GetMetaDataDictionary()\n",
    "    print(dictionary.GetKeys())\n",
    "    print(type(dictionary))\n",
    "    print(output_dict.GetKeys())\n",
    "    print(type(output_dict))\n",
    "    #print(dictionary.Find())\n",
    "    # labelID = None\n",
    "    # print(dictionary.GetLabelFromTag(\"0008|0005\", \"0008|0005\"))\n",
    "    #GetMetaDataObjectValue()\n"
   ]
  },
  {
   "cell_type": "code",
   "execution_count": null,
   "metadata": {},
   "outputs": [],
   "source": []
  }
 ]
}