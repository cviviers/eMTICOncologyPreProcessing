{
 "metadata": {
  "language_info": {
   "codemirror_mode": {
    "name": "ipython",
    "version": 3
   },
   "file_extension": ".py",
   "mimetype": "text/x-python",
   "name": "python",
   "nbconvert_exporter": "python",
   "pygments_lexer": "ipython3",
   "version": "3.8.5-final"
  },
  "orig_nbformat": 2,
  "kernelspec": {
   "name": "python3",
   "display_name": "Python 3",
   "language": "python"
  }
 },
 "nbformat": 4,
 "nbformat_minor": 2,
 "cells": [
  {
   "cell_type": "code",
   "execution_count": 1,
   "metadata": {},
   "outputs": [],
   "source": [
    "import nrrd # pip install pynrrd\n",
    "import nibabel as nib # pip install nibabel\n",
    "import numpy as np\n",
    "import os\n",
    "import itk"
   ]
  },
  {
   "cell_type": "code",
   "execution_count": 2,
   "metadata": {},
   "outputs": [],
   "source": [
    "def find_leafes( root ):\n",
    "    \"\"\" finds folders with no subfolders \"\"\"\n",
    "    for root, dirs, files in os.walk(root):\n",
    "        if not dirs: # can't go deeper\n",
    "            return root"
   ]
  },
  {
   "cell_type": "code",
   "execution_count": 3,
   "metadata": {},
   "outputs": [],
   "source": [
    "number = 1051"
   ]
  },
  {
   "source": [
    "root_dir = r'E:\\Pancreas_BB\\Bounding boxes\\BB Tumor(+), Vaat(-)\\{}\\par'.format(number)\n",
    "image_path = os.path.join(root_dir, '11 Unnamed Series.nrrd')"
   ],
   "cell_type": "code",
   "metadata": {},
   "execution_count": 4,
   "outputs": []
  },
  {
   "cell_type": "code",
   "execution_count": 5,
   "metadata": {},
   "outputs": [],
   "source": [
    "val = 1051\n",
    "annDir = find_leafes(r'E:\\Pancreas_BB\\Detail annotaties\\Detail Vaat(-)\\{}'.format(val))"
   ]
  },
  {
   "cell_type": "code",
   "execution_count": 6,
   "metadata": {},
   "outputs": [
    {
     "output_type": "execute_result",
     "data": {
      "text/plain": [
       "'E:\\\\Pancreas_BB\\\\Detail annotaties\\\\Detail Vaat(-)\\\\1051\\\\par\\\\Patient 1051_1051\\\\No study description\\\\Patient 1051 10 S__(10-30-2020_15-49-03-7515)'"
      ]
     },
     "metadata": {},
     "execution_count": 6
    }
   ],
   "source": [
    "annDir"
   ]
  },
  {
   "cell_type": "code",
   "execution_count": 7,
   "metadata": {},
   "outputs": [],
   "source": [
    "# Setup ITK\n",
    "# PixelType = itk.ctype('signed short')\n",
    "# Dimension = 3\n",
    "ImageType = itk.Image[itk.F, 3]\n"
   ]
  },
  {
   "cell_type": "code",
   "execution_count": 8,
   "metadata": {},
   "outputs": [],
   "source": [
    "# Read data\n",
    "reader = itk.ImageFileReader[itk.Image[itk.F, 3]].New(FileName=image_path)\n",
    "reader.Update()\n"
   ]
  },
  {
   "cell_type": "code",
   "execution_count": 9,
   "metadata": {},
   "outputs": [],
   "source": [
    "# Annotation directory\n",
    "annotations = ['Gastroduodenalis', 'AMS', 'Aorta', 'Pancreas', 'Splenic vein', 'Truncus', 'Vena Cava', 'Vena porta', 'VMI', 'Tumour']\n",
    "#annotations = ['Tumour']"
   ]
  },
  {
   "cell_type": "code",
   "execution_count": 10,
   "metadata": {},
   "outputs": [
    {
     "output_type": "stream",
     "name": "stdout",
     "text": [
      "ann: Gastroduodenalis\n",
      "labelfile:  Patient 1051 10 S_a. Gastroduodenalis_(10-30-2020_15-49-03-7515).vtk\n",
      "ann: AMS\n",
      "labelfile:  Patient 1051 10 S_AMS_(10-30-2020_15-49-03-7515).vtk\n",
      "ann: Aorta\n",
      "labelfile:  Patient 1051 10 S_Aorta_(10-30-2020_15-49-03-7515).vtk\n",
      "ann: Pancreas\n",
      "labelfile:  Patient 1051 10 S_Pancreas_(10-30-2020_15-49-03-7515).vtk\n",
      "ann: Splenic vein\n",
      "labelfile:  Patient 1051 10 S_Splenic vein_(10-30-2020_15-49-03-7515).vtk\n",
      "ann: Truncus\n",
      "labelfile:  Patient 1051 10 S_Truncus, a. Hep + a. Splen_(10-30-2020_15-49-03-7515).vtk\n",
      "ann: Vena Cava\n",
      "labelfile:  Patient 1051 10 S_Vena cava_(10-30-2020_15-49-03-7515).vtk\n",
      "ann: Vena porta\n",
      "labelfile:  Patient 1051 10 S_Vena porta + VMS_(10-30-2020_15-49-03-7515).vtk\n",
      "ann: VMI\n",
      "labelfile:  Patient 1051 10 S_VMI_(10-30-2020_15-49-03-7515).vtk\n",
      "ann: Tumour\n",
      "labelfile:  Patient 1051 10 S_Tumour_(10-30-2020_15-49-03-7515).vtk\n"
     ]
    }
   ],
   "source": [
    "all_labels = []\n",
    "for ann in annotations:\n",
    "\n",
    "    print('ann:', ann)\n",
    "\n",
    "    labelfilelist = [file for file in os.listdir(annDir) if ann.lower() in file.lower()]\n",
    "\n",
    "    if len(labelfilelist) > 0:\n",
    "\n",
    "        labelfile = labelfilelist[0]\n",
    "\n",
    "        print('labelfile: ', labelfile)\n",
    "        labelpath = os.path.join(annDir, labelfile)\n",
    "\n",
    "        MeshType = itk.Mesh[itk.F, 3]\n",
    "        meshReader = itk.MeshFileReader[MeshType].New()\n",
    "        meshReader.SetFileName(labelpath)\n",
    "        meshReader.Update()\n",
    "\n",
    "        #print('Meshreaderout: ', meshReader.GetOutput())\n",
    "\n",
    "        ImageType = itk.Image[itk.F, 3]\n",
    "\n",
    "        filter = itk.TriangleMeshToBinaryImageFilter[MeshType, ImageType].New()\n",
    "        filter.SetInput(meshReader.GetOutput())\n",
    "        filter.SetInfoImage(reader.GetOutput())\n",
    "        filter.Update()\n",
    "\n",
    "        #print('filterout: ', filter.GetOutput())\n",
    "        image = np.array(itk.array_from_image(filter.GetOutput())).astype(np.bool)\n",
    "        all_labels.append(image)\n",
    "\n",
    "    else:\n",
    "        \n",
    "        imsize = reader.GetOutput().GetLargestPossibleRegion().GetSize()\n",
    "\n",
    "        image = np.zeros((imsize[2], imsize[1], imsize[0])).astype(np.bool)\n",
    "\n",
    "        all_labels.append(image)"
   ]
  },
  {
   "cell_type": "code",
   "execution_count": 11,
   "metadata": {},
   "outputs": [
    {
     "output_type": "stream",
     "name": "stdout",
     "text": [
      "[(433, 512, 512), (433, 512, 512), (433, 512, 512), (433, 512, 512), (433, 512, 512), (433, 512, 512), (433, 512, 512), (433, 512, 512), (433, 512, 512), (433, 512, 512)]\n"
     ]
    }
   ],
   "source": [
    "# process label\n",
    "print([ls.shape for ls in all_labels])\n",
    "labels = np.stack(all_labels)\n"
   ]
  },
  {
   "cell_type": "code",
   "execution_count": 13,
   "metadata": {},
   "outputs": [],
   "source": [
    "labelmap = labels.astype(np.uint8)"
   ]
  },
  {
   "cell_type": "code",
   "execution_count": 18,
   "metadata": {},
   "outputs": [],
   "source": [
    "new_labelmap = np.concatenate((np.zeros((1,433, 512, 512)).astype(np.uint8), labelmap), axis=0)"
   ]
  },
  {
   "cell_type": "code",
   "execution_count": 20,
   "metadata": {},
   "outputs": [],
   "source": [
    "\n",
    "labelmap = new_labelmap.argmax(axis=0)\n",
    "labelmap = labelmap.astype(np.float32)\n",
    "#labelmap[:,:,] = 0.\n",
    "labelmap[-1, :,:] = 0."
   ]
  },
  {
   "cell_type": "code",
   "execution_count": 22,
   "metadata": {},
   "outputs": [
    {
     "output_type": "execute_result",
     "data": {
      "text/plain": [
       "array([ 0.,  1.,  2.,  3.,  4.,  5.,  6.,  7.,  8.,  9., 10.],\n",
       "      dtype=float32)"
      ]
     },
     "metadata": {},
     "execution_count": 22
    }
   ],
   "source": [
    "np.unique(labelmap)"
   ]
  },
  {
   "cell_type": "code",
   "execution_count": 21,
   "metadata": {},
   "outputs": [
    {
     "output_type": "stream",
     "name": "stdout",
     "text": [
      "(433, 512, 512)\nmetadata:  Dictionary use_count: 4\nITK_InputFilterName  [UNKNOWN_PRINT_CHARACTERISTICS]\nITK_original_direction  [UNKNOWN_PRINT_CHARACTERISTICS]\nITK_original_spacing  [UNKNOWN_PRINT_CHARACTERISTICS]\nNRRD_kinds[0]  [UNKNOWN_PRINT_CHARACTERISTICS]\nNRRD_kinds[1]  [UNKNOWN_PRINT_CHARACTERISTICS]\nNRRD_kinds[2]  [UNKNOWN_PRINT_CHARACTERISTICS]\nNRRD_space  [UNKNOWN_PRINT_CHARACTERISTICS]\n\n"
     ]
    }
   ],
   "source": [
    "\n",
    "print(labelmap.shape)\n",
    "\n",
    "labelType = itk.Image[itk.F, 3]\n",
    "labelmap = np.ascontiguousarray(labelmap)\n",
    "itk_image = itk.GetImageFromArray(labelmap)\n",
    "itk_image.SetMetaDataDictionary(reader.GetMetaDataDictionary())\n",
    "itk_image.Update()\n",
    "\n",
    "metadata = reader.GetMetaDataDictionary()\n",
    "print('metadata: ', metadata)\n"
   ]
  },
  {
   "cell_type": "code",
   "execution_count": 23,
   "metadata": {},
   "outputs": [],
   "source": [
    "\n",
    "writer = itk.ImageFileWriter[labelType].New()\n",
    "writer.SetInput(itk_image)\n",
    "writer.SetFileName(os.path.join(root_dir, 'dat_001.nii.gz'))\n",
    "writer.Update()"
   ]
  },
  {
   "cell_type": "code",
   "execution_count": 17,
   "metadata": {},
   "outputs": [
    {
     "output_type": "stream",
     "name": "stdout",
     "text": [
      "(433, 512, 512)\n",
      "metadata:  Dictionary use_count: 4\n",
      "ITK_InputFilterName  [UNKNOWN_PRINT_CHARACTERISTICS]\n",
      "ITK_original_direction  [UNKNOWN_PRINT_CHARACTERISTICS]\n",
      "ITK_original_spacing  [UNKNOWN_PRINT_CHARACTERISTICS]\n",
      "NRRD_kinds[0]  [UNKNOWN_PRINT_CHARACTERISTICS]\n",
      "NRRD_kinds[1]  [UNKNOWN_PRINT_CHARACTERISTICS]\n",
      "NRRD_kinds[2]  [UNKNOWN_PRINT_CHARACTERISTICS]\n",
      "NRRD_space  [UNKNOWN_PRINT_CHARACTERISTICS]\n",
      "\n",
      "(433, 512, 512)\n",
      "metadata:  Dictionary use_count: 6\n",
      "ITK_InputFilterName  [UNKNOWN_PRINT_CHARACTERISTICS]\n",
      "ITK_original_direction  [UNKNOWN_PRINT_CHARACTERISTICS]\n",
      "ITK_original_spacing  [UNKNOWN_PRINT_CHARACTERISTICS]\n",
      "NRRD_kinds[0]  [UNKNOWN_PRINT_CHARACTERISTICS]\n",
      "NRRD_kinds[1]  [UNKNOWN_PRINT_CHARACTERISTICS]\n",
      "NRRD_kinds[2]  [UNKNOWN_PRINT_CHARACTERISTICS]\n",
      "NRRD_space  [UNKNOWN_PRINT_CHARACTERISTICS]\n",
      "\n",
      "(433, 512, 512)\n",
      "metadata:  Dictionary use_count: 6\n",
      "ITK_InputFilterName  [UNKNOWN_PRINT_CHARACTERISTICS]\n",
      "ITK_original_direction  [UNKNOWN_PRINT_CHARACTERISTICS]\n",
      "ITK_original_spacing  [UNKNOWN_PRINT_CHARACTERISTICS]\n",
      "NRRD_kinds[0]  [UNKNOWN_PRINT_CHARACTERISTICS]\n",
      "NRRD_kinds[1]  [UNKNOWN_PRINT_CHARACTERISTICS]\n",
      "NRRD_kinds[2]  [UNKNOWN_PRINT_CHARACTERISTICS]\n",
      "NRRD_space  [UNKNOWN_PRINT_CHARACTERISTICS]\n",
      "\n",
      "(433, 512, 512)\n",
      "metadata:  Dictionary use_count: 6\n",
      "ITK_InputFilterName  [UNKNOWN_PRINT_CHARACTERISTICS]\n",
      "ITK_original_direction  [UNKNOWN_PRINT_CHARACTERISTICS]\n",
      "ITK_original_spacing  [UNKNOWN_PRINT_CHARACTERISTICS]\n",
      "NRRD_kinds[0]  [UNKNOWN_PRINT_CHARACTERISTICS]\n",
      "NRRD_kinds[1]  [UNKNOWN_PRINT_CHARACTERISTICS]\n",
      "NRRD_kinds[2]  [UNKNOWN_PRINT_CHARACTERISTICS]\n",
      "NRRD_space  [UNKNOWN_PRINT_CHARACTERISTICS]\n",
      "\n",
      "(433, 512, 512)\n",
      "metadata:  Dictionary use_count: 6\n",
      "ITK_InputFilterName  [UNKNOWN_PRINT_CHARACTERISTICS]\n",
      "ITK_original_direction  [UNKNOWN_PRINT_CHARACTERISTICS]\n",
      "ITK_original_spacing  [UNKNOWN_PRINT_CHARACTERISTICS]\n",
      "NRRD_kinds[0]  [UNKNOWN_PRINT_CHARACTERISTICS]\n",
      "NRRD_kinds[1]  [UNKNOWN_PRINT_CHARACTERISTICS]\n",
      "NRRD_kinds[2]  [UNKNOWN_PRINT_CHARACTERISTICS]\n",
      "NRRD_space  [UNKNOWN_PRINT_CHARACTERISTICS]\n",
      "\n",
      "(433, 512, 512)\n",
      "metadata:  Dictionary use_count: 6\n",
      "ITK_InputFilterName  [UNKNOWN_PRINT_CHARACTERISTICS]\n",
      "ITK_original_direction  [UNKNOWN_PRINT_CHARACTERISTICS]\n",
      "ITK_original_spacing  [UNKNOWN_PRINT_CHARACTERISTICS]\n",
      "NRRD_kinds[0]  [UNKNOWN_PRINT_CHARACTERISTICS]\n",
      "NRRD_kinds[1]  [UNKNOWN_PRINT_CHARACTERISTICS]\n",
      "NRRD_kinds[2]  [UNKNOWN_PRINT_CHARACTERISTICS]\n",
      "NRRD_space  [UNKNOWN_PRINT_CHARACTERISTICS]\n",
      "\n",
      "(433, 512, 512)\n",
      "metadata:  Dictionary use_count: 6\n",
      "ITK_InputFilterName  [UNKNOWN_PRINT_CHARACTERISTICS]\n",
      "ITK_original_direction  [UNKNOWN_PRINT_CHARACTERISTICS]\n",
      "ITK_original_spacing  [UNKNOWN_PRINT_CHARACTERISTICS]\n",
      "NRRD_kinds[0]  [UNKNOWN_PRINT_CHARACTERISTICS]\n",
      "NRRD_kinds[1]  [UNKNOWN_PRINT_CHARACTERISTICS]\n",
      "NRRD_kinds[2]  [UNKNOWN_PRINT_CHARACTERISTICS]\n",
      "NRRD_space  [UNKNOWN_PRINT_CHARACTERISTICS]\n",
      "\n",
      "(433, 512, 512)\n",
      "metadata:  Dictionary use_count: 6\n",
      "ITK_InputFilterName  [UNKNOWN_PRINT_CHARACTERISTICS]\n",
      "ITK_original_direction  [UNKNOWN_PRINT_CHARACTERISTICS]\n",
      "ITK_original_spacing  [UNKNOWN_PRINT_CHARACTERISTICS]\n",
      "NRRD_kinds[0]  [UNKNOWN_PRINT_CHARACTERISTICS]\n",
      "NRRD_kinds[1]  [UNKNOWN_PRINT_CHARACTERISTICS]\n",
      "NRRD_kinds[2]  [UNKNOWN_PRINT_CHARACTERISTICS]\n",
      "NRRD_space  [UNKNOWN_PRINT_CHARACTERISTICS]\n",
      "\n",
      "(433, 512, 512)\n",
      "metadata:  Dictionary use_count: 6\n",
      "ITK_InputFilterName  [UNKNOWN_PRINT_CHARACTERISTICS]\n",
      "ITK_original_direction  [UNKNOWN_PRINT_CHARACTERISTICS]\n",
      "ITK_original_spacing  [UNKNOWN_PRINT_CHARACTERISTICS]\n",
      "NRRD_kinds[0]  [UNKNOWN_PRINT_CHARACTERISTICS]\n",
      "NRRD_kinds[1]  [UNKNOWN_PRINT_CHARACTERISTICS]\n",
      "NRRD_kinds[2]  [UNKNOWN_PRINT_CHARACTERISTICS]\n",
      "NRRD_space  [UNKNOWN_PRINT_CHARACTERISTICS]\n",
      "\n",
      "(433, 512, 512)\n",
      "metadata:  Dictionary use_count: 6\n",
      "ITK_InputFilterName  [UNKNOWN_PRINT_CHARACTERISTICS]\n",
      "ITK_original_direction  [UNKNOWN_PRINT_CHARACTERISTICS]\n",
      "ITK_original_spacing  [UNKNOWN_PRINT_CHARACTERISTICS]\n",
      "NRRD_kinds[0]  [UNKNOWN_PRINT_CHARACTERISTICS]\n",
      "NRRD_kinds[1]  [UNKNOWN_PRINT_CHARACTERISTICS]\n",
      "NRRD_kinds[2]  [UNKNOWN_PRINT_CHARACTERISTICS]\n",
      "NRRD_space  [UNKNOWN_PRINT_CHARACTERISTICS]\n",
      "\n"
     ]
    }
   ],
   "source": [
    "# for i in range(0,10):\n",
    "#     labelmap = labels[i].astype(np.float32)\n",
    "#     labelmap[-1, :,:] = 0.\n",
    "#     print(labelmap.shape)\n",
    "\n",
    "#     labelType = itk.Image[itk.F, 3]\n",
    "#     labelmap = np.ascontiguousarray(labelmap)\n",
    "#     itk_image = itk.GetImageFromArray(labelmap)\n",
    "#     itk_image.SetMetaDataDictionary(reader.GetMetaDataDictionary())\n",
    "#     itk_image.Update()\n",
    "\n",
    "#     metadata = reader.GetMetaDataDictionary()\n",
    "#     print('metadata: ', metadata)\n",
    "\n",
    "#     writer = itk.ImageFileWriter[labelType].New()\n",
    "#     writer.SetInput(itk_image)\n",
    "#     name = 'dat_00{}.nii.gz'.format(i+1)\n",
    "#     writer.SetFileName(os.path.join(root_dir, name))\n",
    "#     writer.Update()"
   ]
  },
  {
   "cell_type": "code",
   "execution_count": null,
   "metadata": {},
   "outputs": [],
   "source": [
    "# labelmap = labels.astype(np.uint8)\n",
    "# labelmap = labelmap.argmax(axis=0)\n",
    "# labelmap = labelmap.astype(np.float32)\n",
    "# labelmap[-1, :,:] = 0."
   ]
  },
  {
   "cell_type": "code",
   "execution_count": 63,
   "metadata": {},
   "outputs": [
    {
     "output_type": "stream",
     "name": "stdout",
     "text": [
      "(433, 512, 512)\nmetadata:  Dictionary use_count: 6\nITK_InputFilterName  [UNKNOWN_PRINT_CHARACTERISTICS]\nITK_original_direction  [UNKNOWN_PRINT_CHARACTERISTICS]\nITK_original_spacing  [UNKNOWN_PRINT_CHARACTERISTICS]\nNRRD_kinds[0]  [UNKNOWN_PRINT_CHARACTERISTICS]\nNRRD_kinds[1]  [UNKNOWN_PRINT_CHARACTERISTICS]\nNRRD_kinds[2]  [UNKNOWN_PRINT_CHARACTERISTICS]\nNRRD_space  [UNKNOWN_PRINT_CHARACTERISTICS]\n\n"
     ]
    }
   ],
   "source": [
    "\n",
    "print(labelmap.shape)\n",
    "\n",
    "labelType = itk.Image[itk.F, 3]\n",
    "labelmap = np.ascontiguousarray(labelmap)\n",
    "itk_image = itk.GetImageFromArray(labelmap)\n",
    "itk_image.SetMetaDataDictionary(reader.GetMetaDataDictionary())\n",
    "itk_image.Update()\n",
    "\n",
    "metadata = reader.GetMetaDataDictionary()\n",
    "print('metadata: ', metadata)\n",
    "\n"
   ]
  },
  {
   "cell_type": "code",
   "execution_count": 64,
   "metadata": {},
   "outputs": [],
   "source": [
    "\n",
    "writer = itk.ImageFileWriter[labelType].New()\n",
    "writer.SetInput(itk_image)\n",
    "writer.SetFileName(os.path.join(root_dir, '010.nii.gz'))\n",
    "writer.Update()"
   ]
  },
  {
   "cell_type": "code",
   "execution_count": 19,
   "metadata": {},
   "outputs": [
    {
     "output_type": "execute_result",
     "data": {
      "text/plain": [
       "(433, 512, 512)"
      ]
     },
     "metadata": {},
     "execution_count": 19
    }
   ],
   "source": []
  },
  {
   "cell_type": "code",
   "execution_count": 20,
   "metadata": {},
   "outputs": [
    {
     "output_type": "stream",
     "name": "stdout",
     "text": [
      "metadata:  Dictionary use_count: 6\nITK_InputFilterName  [UNKNOWN_PRINT_CHARACTERISTICS]\nITK_original_direction  [UNKNOWN_PRINT_CHARACTERISTICS]\nITK_original_spacing  [UNKNOWN_PRINT_CHARACTERISTICS]\nNRRD_kinds[0]  [UNKNOWN_PRINT_CHARACTERISTICS]\nNRRD_kinds[1]  [UNKNOWN_PRINT_CHARACTERISTICS]\nNRRD_kinds[2]  [UNKNOWN_PRINT_CHARACTERISTICS]\nNRRD_space  [UNKNOWN_PRINT_CHARACTERISTICS]\n\n"
     ]
    }
   ],
   "source": [
    "# Backgound label\n",
    "labelType = itk.Image[itk.F, 3]\n",
    "labelmap = np.ascontiguousarray(np.zeros((433, 512, 512)).astype(np.float32))\n",
    "itk_image = itk.GetImageFromArray(np.zeros((433, 512, 512)).astype(np.float32))\n",
    "itk_image.SetMetaDataDictionary(reader.GetMetaDataDictionary())\n",
    "itk_image.Update()\n",
    "\n",
    "metadata = reader.GetMetaDataDictionary()\n",
    "print('metadata: ', metadata)\n",
    "writer = itk.ImageFileWriter[labelType].New()\n",
    "writer.SetInput(itk_image)\n",
    "writer.SetFileName(os.path.join(root_dir, '000.nii.gz'))\n",
    "writer.Update()"
   ]
  },
  {
   "cell_type": "code",
   "execution_count": null,
   "metadata": {},
   "outputs": [],
   "source": []
  }
 ]
}