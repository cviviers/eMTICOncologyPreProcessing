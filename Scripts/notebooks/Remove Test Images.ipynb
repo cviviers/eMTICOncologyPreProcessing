{
 "metadata": {
  "language_info": {
   "codemirror_mode": {
    "name": "ipython",
    "version": 3
   },
   "file_extension": ".py",
   "mimetype": "text/x-python",
   "name": "python",
   "nbconvert_exporter": "python",
   "pygments_lexer": "ipython3",
   "version": "3.8.0-final"
  },
  "orig_nbformat": 2,
  "kernelspec": {
   "name": "python3",
   "display_name": "Python 3",
   "language": "python"
  }
 },
 "nbformat": 4,
 "nbformat_minor": 2,
 "cells": [
  {
   "cell_type": "code",
   "execution_count": 1,
   "metadata": {},
   "outputs": [],
   "source": [
    "import os, shutil\n"
   ]
  },
  {
   "cell_type": "code",
   "execution_count": 2,
   "metadata": {},
   "outputs": [],
   "source": [
    "test_set = [\"1002\",\t\"1008\", \"1011\", \"1012\", \"1017\", \"1029\", \"1036\", \"1037\", \"1038\", \"1042\", \"1054\", \"1065\", \"1071\", \"1078\", \"1079\", \"1081\", \"1085\", \"1087\", \"1093\", \"1095\"]"
   ]
  },
  {
   "cell_type": "code",
   "execution_count": 3,
   "metadata": {},
   "outputs": [],
   "source": [
    "directory = r\"C:\\Users\\320088652\\OneDrive - Philips\\TUe\\eMTIC\\Pancreas_BB\\Pancreas_BB\\Processed\\par\""
   ]
  },
  {
   "cell_type": "code",
   "execution_count": 4,
   "metadata": {},
   "outputs": [],
   "source": [
    "def mergefolders(root_src_dir, root_dst_dir):\n",
    "    for src_dir, dirs, files in os.walk(root_src_dir):\n",
    "        dst_dir = src_dir.replace(root_src_dir, root_dst_dir, 1)\n",
    "        if not os.path.exists(dst_dir):\n",
    "            os.makedirs(dst_dir)\n",
    "        for file_ in files:\n",
    "            src_file = os.path.join(src_dir, file_)\n",
    "            dst_file = os.path.join(dst_dir, file_)\n",
    "            if os.path.exists(dst_file):\n",
    "                os.remove(dst_file)\n",
    "            shutil.copy(src_file, dst_dir)"
   ]
  },
  {
   "cell_type": "code",
   "execution_count": 5,
   "metadata": {},
   "outputs": [
    {
     "output_type": "stream",
     "name": "stdout",
     "text": [
      "1101\nFalse\n1102\nFalse\n1103\nFalse\n1104\nFalse\n1105\nFalse\n1106\nFalse\n1108\nFalse\n1109\nFalse\n1115\nFalse\n1116\nFalse\n1118\nFalse\n1120\nFalse\n1123\nFalse\n1124\nFalse\n"
     ]
    }
   ],
   "source": [
    "img_directory = os.path.join(directory, \"imagesTr\")\n",
    "for case in os.listdir(img_directory):\n",
    "    \n",
    "    if os.path.exists(os.path.join(img_directory, case)):\n",
    "        print(case[4:8])\n",
    "        print(case[4:8] in test_set)\n",
    "        if case[4:8] in test_set:\n",
    "            print(case[4:8])\n",
    "            src_file = os.path.join(img_directory, case)\n",
    "            #case_number = case\n",
    "            dst_dir = os.path.join(directory, \"imagesTs\")\n",
    "            shutil.move(src_file, dst_dir)\n",
    "            #mergefolders(os.path.join(img_directory, case), os.path.join(directory, phase))"
   ]
  },
  {
   "cell_type": "code",
   "execution_count": null,
   "metadata": {},
   "outputs": [],
   "source": [
    "img_directory = os.path.join(directory, \"labelsTr\")\n",
    "for case in os.listdir(img_directory):\n",
    "    \n",
    "    if os.path.exists(os.path.join(img_directory, case)):\n",
    "        print(case[4:8] in test_set)\n",
    "        if case[4:8] in test_set:\n",
    "            print(case[4:8])\n",
    "            src_file = os.path.join(img_directory, case)\n",
    "            #case_number = case\n",
    "            dst_dir = os.path.join(directory, \"labelsTs\")\n",
    "            shutil.move(src_file, dst_dir)\n",
    "            #mergefolders(os.path.join(img_directory, case), os.path.join(directory, phase))"
   ]
  },
  {
   "cell_type": "code",
   "execution_count": null,
   "metadata": {},
   "outputs": [],
   "source": []
  }
 ]
}