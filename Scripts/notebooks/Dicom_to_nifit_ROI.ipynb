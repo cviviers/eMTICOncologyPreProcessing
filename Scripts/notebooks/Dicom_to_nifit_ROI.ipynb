{
 "metadata": {
  "language_info": {
   "codemirror_mode": {
    "name": "ipython",
    "version": 3
   },
   "file_extension": ".py",
   "mimetype": "text/x-python",
   "name": "python",
   "nbconvert_exporter": "python",
   "pygments_lexer": "ipython3",
   "version": "3.8.5-final"
  },
  "orig_nbformat": 2,
  "kernelspec": {
   "name": "python3",
   "display_name": "Python 3",
   "language": "python"
  }
 },
 "nbformat": 4,
 "nbformat_minor": 2,
 "cells": [
  {
   "cell_type": "code",
   "execution_count": 71,
   "metadata": {},
   "outputs": [],
   "source": [
    "#!/usr/bin/env python\n",
    "import os\n",
    "import itk"
   ]
  },
  {
   "cell_type": "code",
   "execution_count": 72,
   "metadata": {},
   "outputs": [],
   "source": [
    "PixelType = itk.ctype('signed short')\n",
    "Dimension = 3\n",
    "\n",
    "ImageType = itk.Image[PixelType, Dimension]"
   ]
  },
  {
   "cell_type": "code",
   "execution_count": 73,
   "metadata": {},
   "outputs": [],
   "source": [
    "start = itk.Index[Dimension]()\n",
    "start[0] = 0 # startx\n",
    "start[1] = 0 # starty\n",
    "start[2] = 0 # start along Z"
   ]
  },
  {
   "cell_type": "code",
   "execution_count": 74,
   "metadata": {},
   "outputs": [],
   "source": [
    "end = itk.Index[Dimension]()\n",
    "end[0] = 511 # endx\n",
    "end[1] = 511 # endy\n",
    "end[2] = 199 # size along Z"
   ]
  },
  {
   "cell_type": "code",
   "execution_count": 75,
   "metadata": {},
   "outputs": [],
   "source": [
    "region = itk.ImageRegion[Dimension]()\n",
    "region.SetIndex(start)\n",
    "region.SetUpperIndex(end)"
   ]
  },
  {
   "cell_type": "code",
   "execution_count": 76,
   "metadata": {},
   "outputs": [],
   "source": [
    "# image.SetRegions(region)\n",
    "# image.Allocate()"
   ]
  },
  {
   "cell_type": "code",
   "execution_count": 77,
   "metadata": {},
   "outputs": [],
   "source": [
    "dirName = r'E:\\Pancreas_BB\\CT scans\\CT scans Vaat (-)\\1051\\DICOM\\00009A75\\AAE6AB16\\AAC56CFF\\0000E6BD_par'"
   ]
  },
  {
   "cell_type": "code",
   "execution_count": 78,
   "metadata": {},
   "outputs": [],
   "source": [
    "namesGenerator = itk.GDCMSeriesFileNames.New()\n",
    "namesGenerator.SetUseSeriesDetails(True)\n",
    "namesGenerator.AddSeriesRestriction(\"0008|0021\")\n",
    "namesGenerator.SetGlobalWarningDisplay(False)\n",
    "namesGenerator.SetDirectory(dirName)"
   ]
  },
  {
   "cell_type": "code",
   "execution_count": 79,
   "metadata": {},
   "outputs": [],
   "source": [
    "seriesUID = namesGenerator.GetSeriesUIDs()"
   ]
  },
  {
   "cell_type": "code",
   "execution_count": 80,
   "metadata": {},
   "outputs": [
    {
     "output_type": "execute_result",
     "data": {
      "text/plain": [
       "('1.2.840.113704.1.111.3040.1457369623.36.101.00512512',)"
      ]
     },
     "metadata": {},
     "execution_count": 80
    }
   ],
   "source": [
    "seriesUID"
   ]
  },
  {
   "cell_type": "code",
   "execution_count": 81,
   "metadata": {},
   "outputs": [],
   "source": [
    "if len(seriesUID) < 1:\n",
    "    print('No DICOMs in: ' + dirName)\n",
    "    sys.exit(1)"
   ]
  },
  {
   "cell_type": "code",
   "execution_count": 82,
   "metadata": {},
   "outputs": [
    {
     "output_type": "stream",
     "name": "stdout",
     "text": [
      "The directory: E:\\Pancreas_BB\\CT scans\\CT scans Vaat (-)\\1051\\DICOM\\00009A75\\AAE6AB16\\AAC56CFF\\0000E6BD_par\nContains the following DICOM Series: \n1.2.840.113704.1.111.3040.1457369623.36.101.00512512\n"
     ]
    }
   ],
   "source": [
    "print('The directory: ' + dirName)\n",
    "print('Contains the following DICOM Series: ')\n",
    "for uid in seriesUID:\n",
    "    print(uid)\n",
    "\n"
   ]
  },
  {
   "cell_type": "code",
   "execution_count": 83,
   "metadata": {},
   "outputs": [
    {
     "output_type": "stream",
     "name": "stdout",
     "text": [
      "Reading: 1.2.840.113704.1.111.3040.1457369623.36.101.00512512\nReader\nitkSize3 ([512, 512, 223])\nImage (000001CC1031E840)\n  RTTI typeinfo:   class itk::Image<short,3>\n  Reference Count: 2\n  Modified Time: 44815\n  Debug: Off\n  Object Name: \n  Observers: \n    none\n  Source: (000001CC101A0E90) \n  Source output name: Primary\n  Release Data: Off\n  Data Released: False\n  Global Release Data: Off\n  PipelineMTime: 44763\n  UpdateMTime: 0\n  RealTimeStamp: 0 seconds \n  LargestPossibleRegion: \n    Dimension: 3\n    Index: [0, 0, 0]\n    Size: [512, 512, 223]\n  BufferedRegion: \n    Dimension: 3\n    Index: [0, 0, 0]\n    Size: [0, 0, 0]\n  RequestedRegion: \n    Dimension: 3\n    Index: [0, 0, 0]\n    Size: [0, 0, 0]\n  Spacing: [0.683594, 0.683594, 1]\n  Origin: [-189.386, -27.2289, 245.4]\n  Direction: \n1 0 0\n0 1 0\n0 0 1\n\n  IndexToPointMatrix: \n0.683594 0 0\n0 0.683594 0\n0 0 1\n\n  PointToIndexMatrix: \n1.46286 0 0\n0 1.46286 0\n0 0 1\n\n  Inverse Direction: \n1 0 0\n0 1 0\n0 0 1\n\n  PixelContainer: \n    ImportImageContainer (000001CC0851AC70)\n      RTTI typeinfo:   class itk::ImportImageContainer<unsigned __int64,short>\n      Reference Count: 1\n      Modified Time: 44754\n      Debug: Off\n      Object Name: \n      Observers: \n        none\n      Pointer: 0000000000000000\n      Container manages memory: true\n      Size: 0\n      Capacity: 0\n\nRegion of Interest\nitkSize3 ([512, 512, 200])\nImage (000001CC10322080)\n  RTTI typeinfo:   class itk::Image<short,3>\n  Reference Count: 2\n  Modified Time: 7091\n  Debug: Off\n  Object Name: \n  Observers: \n    none\n  Source: (000001CBFFBE7F30) \n  Source output name: Primary\n  Release Data: Off\n  Data Released: False\n  Global Release Data: Off\n  PipelineMTime: 44815\n  UpdateMTime: 0\n  RealTimeStamp: 0 seconds \n  LargestPossibleRegion: \n    Dimension: 3\n    Index: [0, 0, 0]\n    Size: [512, 512, 200]\n  BufferedRegion: \n    Dimension: 3\n    Index: [0, 0, 0]\n    Size: [0, 0, 0]\n  RequestedRegion: \n    Dimension: 3\n    Index: [0, 0, 0]\n    Size: [0, 0, 0]\n  Spacing: [0.683594, 0.683594, 1]\n  Origin: [-189.386, -27.2289, 245.4]\n  Direction: \n1 0 0\n0 1 0\n0 0 1\n\n  IndexToPointMatrix: \n0.683594 0 0\n0 0.683594 0\n0 0 1\n\n  PointToIndexMatrix: \n1.46286 0 0\n0 1.46286 0\n0 0 1\n\n  Inverse Direction: \n1 0 0\n0 1 0\n0 0 1\n\n  PixelContainer: \n    ImportImageContainer (000001CC08519EF0)\n      RTTI typeinfo:   class itk::ImportImageContainer<unsigned __int64,short>\n      Reference Count: 1\n      Modified Time: 7075\n      Debug: Off\n      Object Name: \n      Observers: \n        none\n      Pointer: 0000000000000000\n      Container manages memory: true\n      Size: 0\n      Capacity: 0\n\nWriter\n<itk.ITKCommonBasePython.itkImageIORegion; proxy of <Swig Object of type 'itkImageIORegion *' at 0x000001CBD95E81B0> >\nWriting: E:\\Pancreas_BB\\CT scans\\CT scans Vaat (-)\\1051\\DICOM\\00009A75\\AAE6AB16\\AAC56CFF\\0000E6BD_par\\1.2.840.113704.1.111.3040.1457369623.36.101.00512512.nii.gz\n"
     ]
    }
   ],
   "source": [
    "seriesFound = False\n",
    "for uid in seriesUID:\n",
    "    seriesIdentifier = uid\n",
    "\n",
    "    print('Reading: ' + seriesIdentifier)\n",
    "\n",
    "    fileNames = namesGenerator.GetFileNames(seriesIdentifier)\n",
    "\n",
    "    reader = itk.ImageSeriesReader[ImageType].New()\n",
    "    \n",
    "    \n",
    "\n",
    "    dicomIO = itk.GDCMImageIO.New()\n",
    "    reader.SetImageIO(dicomIO)\n",
    "    reader.SetFileNames(fileNames)\n",
    "    reader.ForceOrthogonalDirectionOff()\n",
    "    \n",
    "    size = itk.size(reader)\n",
    "    print(\"Reader\")\n",
    "    print(size)\n",
    "    print(reader.GetOutput())\n",
    "\n",
    "    ROI = itk.ExtractImageFilter[ImageType, ImageType].New()\n",
    "    ROI.SetExtractionRegion(region)\n",
    "    ROI.SetInput(reader.GetOutput())\n",
    "    \n",
    "    \n",
    "    #ROI.Update()\n",
    "\n",
    "    print(\"Region of Interest\")\n",
    "    size = itk.size(ROI)\n",
    "    print(size)\n",
    "    print(ROI.GetOutput())\n",
    "    \n",
    "    writer = itk.ImageFileWriter[ImageType].New()\n",
    "    outFileName = os.path.join(dirName, seriesIdentifier + '.nii.gz')\n",
    "    writer.SetFileName(outFileName)\n",
    "    writer.UseCompressionOn()\n",
    "    writer.SetInput(ROI.GetOutput())\n",
    "    \n",
    "    print(\"Writer\")\n",
    "   \n",
    "    print(writer.GetIORegion())\n",
    "\n",
    "    print('Writing: ' + outFileName)\n",
    "    \n",
    "    writer.Update()\n",
    "\n",
    "    if seriesFound:\n",
    "        break"
   ]
  },
  {
   "cell_type": "code",
   "execution_count": null,
   "metadata": {},
   "outputs": [],
   "source": []
  },
  {
   "cell_type": "code",
   "execution_count": null,
   "metadata": {},
   "outputs": [],
   "source": []
  }
 ]
}