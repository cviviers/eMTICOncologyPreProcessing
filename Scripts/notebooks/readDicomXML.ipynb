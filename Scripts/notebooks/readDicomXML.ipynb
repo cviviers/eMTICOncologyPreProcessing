{
 "metadata": {
  "language_info": {
   "codemirror_mode": {
    "name": "ipython",
    "version": 3
   },
   "file_extension": ".py",
   "mimetype": "text/x-python",
   "name": "python",
   "nbconvert_exporter": "python",
   "pygments_lexer": "ipython3",
   "version": "3.8.0-final"
  },
  "orig_nbformat": 2,
  "kernelspec": {
   "name": "python3",
   "display_name": "Python 3",
   "language": "python"
  }
 },
 "nbformat": 4,
 "nbformat_minor": 2,
 "cells": [
  {
   "cell_type": "code",
   "execution_count": 19,
   "metadata": {},
   "outputs": [],
   "source": [
    "import os\n",
    "import xml.etree.ElementTree as ET\n",
    "from utils.finder import find_leafes\n",
    "from utils.dicom_to_nifti import seperate_labels"
   ]
  },
  {
   "cell_type": "code",
   "execution_count": 20,
   "metadata": {},
   "outputs": [],
   "source": [
    "directory = r'C:\\Users\\320088652\\OneDrive - Philips\\TUe\\eMTIC\\Pancreas_BB\\Pancreas_BB\\CT scans\\CT scans Vaat (-)'\n",
    "annotation_dir = r'C:\\Users\\320088652\\OneDrive - Philips\\TUe\\eMTIC\\Pancreas_BB\\Pancreas_BB\\Detail annotaties\\Detail Vaat(-)'\n",
    "#boundingbox_dir = r\"C:\\Users\\320088652\\OneDrive - Philips\\TUe\\eMTIC\\Pancreas_BB\\Pancreas_BB\\Bounding boxes\\BB Tumor(+), Vaat(+)\"\n",
    "output = r\"C:\\Users\\320088652\\OneDrive - Philips\\TUe\\eMTIC\\Pancreas_BB\\Pancreas_BB\\Processed_Data\""
   ]
  },
  {
   "cell_type": "code",
   "execution_count": 21,
   "metadata": {},
   "outputs": [],
   "source": [
    "par_list = ['par', 'pan', '40']\n",
    "pvp_list = ['ven', \"pvp\", \"80\", \"port\", \"abdomen\", \"th abd ax 2 2\", \"tho+abd\"]\n",
    "art_list = ['art']\n",
    "liver_list = ['laat']\n",
    "ct_list = ['ct', 'tho', 'thx', 'buik']\n",
    "patient_cases = {}"
   ]
  },
  {
   "cell_type": "code",
   "execution_count": 22,
   "metadata": {
    "tags": []
   },
   "outputs": [
    {
     "output_type": "stream",
     "name": "stdout",
     "text": [
      "==========================\n1075\n==========================\nID: 00009D19\nPARENCHYM 1/1\nPARENCHYMA\npar\nData dir C:\\Users\\320088652\\OneDrive - Philips\\TUe\\eMTIC\\Pancreas_BB\\Pancreas_BB\\CT scans\\CT scans Vaat (-)\\1075\\DICOM\\0000AEB3\\AA77E4F6\\AA84D56F\\00009D19 found\n"
     ]
    },
    {
     "output_type": "error",
     "ename": "TypeError",
     "evalue": "stat: path should be string, bytes, os.PathLike or integer, not NoneType",
     "traceback": [
      "\u001b[1;31m---------------------------------------------------------------------------\u001b[0m",
      "\u001b[1;31mTypeError\u001b[0m                                 Traceback (most recent call last)",
      "\u001b[1;32m<ipython-input-22-cd86aa65401e>\u001b[0m in \u001b[0;36m<module>\u001b[1;34m\u001b[0m\n\u001b[0;32m     68\u001b[0m                          \u001b[1;32mcontinue\u001b[0m\u001b[1;33m\u001b[0m\u001b[1;33m\u001b[0m\u001b[0m\n\u001b[0;32m     69\u001b[0m \u001b[1;33m\u001b[0m\u001b[0m\n\u001b[1;32m---> 70\u001b[1;33m                     \u001b[1;32mif\u001b[0m \u001b[0mos\u001b[0m\u001b[1;33m.\u001b[0m\u001b[0mpath\u001b[0m\u001b[1;33m.\u001b[0m\u001b[0mexists\u001b[0m\u001b[1;33m(\u001b[0m\u001b[0mspec_annotation_directory\u001b[0m\u001b[1;33m)\u001b[0m\u001b[1;33m:\u001b[0m\u001b[1;33m\u001b[0m\u001b[1;33m\u001b[0m\u001b[0m\n\u001b[0m\u001b[0;32m     71\u001b[0m                         \u001b[0mprint\u001b[0m\u001b[1;33m(\u001b[0m\u001b[1;34mf\"Annotation dir {spec_annotation_directory} found\"\u001b[0m\u001b[1;33m)\u001b[0m\u001b[1;33m\u001b[0m\u001b[1;33m\u001b[0m\u001b[0m\n\u001b[0;32m     72\u001b[0m                     \u001b[1;32melse\u001b[0m\u001b[1;33m:\u001b[0m\u001b[1;33m\u001b[0m\u001b[1;33m\u001b[0m\u001b[0m\n",
      "\u001b[1;32m~\\AppData\\Local\\Programs\\Python\\Python38\\lib\\genericpath.py\u001b[0m in \u001b[0;36mexists\u001b[1;34m(path)\u001b[0m\n\u001b[0;32m     17\u001b[0m     \u001b[1;34m\"\"\"Test whether a path exists.  Returns False for broken symbolic links\"\"\"\u001b[0m\u001b[1;33m\u001b[0m\u001b[1;33m\u001b[0m\u001b[0m\n\u001b[0;32m     18\u001b[0m     \u001b[1;32mtry\u001b[0m\u001b[1;33m:\u001b[0m\u001b[1;33m\u001b[0m\u001b[1;33m\u001b[0m\u001b[0m\n\u001b[1;32m---> 19\u001b[1;33m         \u001b[0mos\u001b[0m\u001b[1;33m.\u001b[0m\u001b[0mstat\u001b[0m\u001b[1;33m(\u001b[0m\u001b[0mpath\u001b[0m\u001b[1;33m)\u001b[0m\u001b[1;33m\u001b[0m\u001b[1;33m\u001b[0m\u001b[0m\n\u001b[0m\u001b[0;32m     20\u001b[0m     \u001b[1;32mexcept\u001b[0m \u001b[1;33m(\u001b[0m\u001b[0mOSError\u001b[0m\u001b[1;33m,\u001b[0m \u001b[0mValueError\u001b[0m\u001b[1;33m)\u001b[0m\u001b[1;33m:\u001b[0m\u001b[1;33m\u001b[0m\u001b[1;33m\u001b[0m\u001b[0m\n\u001b[0;32m     21\u001b[0m         \u001b[1;32mreturn\u001b[0m \u001b[1;32mFalse\u001b[0m\u001b[1;33m\u001b[0m\u001b[1;33m\u001b[0m\u001b[0m\n",
      "\u001b[1;31mTypeError\u001b[0m: stat: path should be string, bytes, os.PathLike or integer, not NoneType"
     ]
    }
   ],
   "source": [
    "for case in os.listdir(directory):\n",
    "    \n",
    "    if os.path.isdir(os.path.join(directory, case)):\n",
    "        case_number = case\n",
    "\n",
    "        if int(case_number) != 1075:\n",
    "            continue\n",
    "\n",
    "        sectra = os.path.join(directory, case, \"SECTRA\", \"CONTENT.XML\")\n",
    "        modalities = []\n",
    "        if (os.path.exists(sectra)):\n",
    "\n",
    "            root = ET.parse(sectra).getroot()\n",
    "            print(\"==========================\")\n",
    "            print(case)\n",
    "            print(\"==========================\")\n",
    "\n",
    "            for series in root.findall('patient/request/study/series'):\n",
    "                for description in series.findall('series_data/description'):\n",
    "                    #print(series)\n",
    "                    id = series.get('id')\n",
    "                    print(f\"ID: {id}\")\n",
    "                    print(description.text)\n",
    "                    phase = None\n",
    "\n",
    "                    if description.text is not None:\n",
    "                       \n",
    "                        \n",
    "                        if bool([ele for ele in par_list if(ele in description.text.lower())]):\n",
    "                            print(\"PARENCHYMA\")\n",
    "                            phase = \"par\"\n",
    "                        elif bool([ele for ele in pvp_list if(ele in description.text.lower())]):\n",
    "                            print(\"PVP\")\n",
    "                            phase = \"pvp\"\n",
    "                        elif bool([ele for ele in art_list if(ele in description.text.lower())]):\n",
    "                            print(\"ART\")\n",
    "                            phase = \"art\"\n",
    "                        elif bool([ele for ele in liver_list if(ele in description.text.lower())]):\n",
    "                            print(\"liver\")\n",
    "                            phase = \"liver\"\n",
    "                        else:\n",
    "                            phase = \"unknown\"\n",
    "\n",
    "                    else:\n",
    "                        phase = \"unknown\"\n",
    "\n",
    "                    modalities.append(phase)\n",
    "\n",
    "                    if (phase == \"unknown\"):\n",
    "                        print(\"Failed to find phase\")\n",
    "                        continue\n",
    "\n",
    "                    high_data_dir = os.path.join(directory, case_number)\n",
    "                    low_dir = find_leafes(high_data_dir)\n",
    "                    data_dir = os.path.dirname(low_dir)\n",
    "\n",
    "                    spec_data_dar = os.path.join(data_dir, id)\n",
    "                    print(phase)\n",
    "                    high_annotation_directory = os.path.join(annotation_dir, case_number, phase)\n",
    "                   \n",
    "                    spec_annotation_directory = find_leafes(high_annotation_directory)\n",
    "                   \n",
    "                    \n",
    "                    if os.path.exists(spec_data_dar):\n",
    "                        print(f\"Data dir {spec_data_dar} found\")\n",
    "                    else:\n",
    "                         print(f\"Data dir {spec_data_dar} does not exist\")\n",
    "                         continue\n",
    "\n",
    "                    if os.path.exists(spec_annotation_directory):\n",
    "                        print(f\"Annotation dir {spec_annotation_directory} found\")\n",
    "                    else:\n",
    "                         print(f\"Annotation dir {spec_annotation_directory} does not exist\")\n",
    "                         continue\n",
    "\n",
    "                    \n",
    "                    seperate_labels(spec_data_dar, spec_annotation_directory, output, case_number, phase)\n",
    "                    \n",
    "        else:\n",
    "\n",
    "            print(f\"{case} has an error\")\n",
    "            print(f\"{sectra} does not exist\")\n",
    "            modalities.append(\"no info\")\n",
    "        patient_cases[case_number] = modalities\n"
   ]
  },
  {
   "cell_type": "code",
   "execution_count": null,
   "metadata": {},
   "outputs": [],
   "source": []
  }
 ]
}