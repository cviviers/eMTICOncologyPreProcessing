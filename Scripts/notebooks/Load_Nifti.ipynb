{
 "metadata": {
  "language_info": {
   "codemirror_mode": {
    "name": "ipython",
    "version": 3
   },
   "file_extension": ".py",
   "mimetype": "text/x-python",
   "name": "python",
   "nbconvert_exporter": "python",
   "pygments_lexer": "ipython3",
   "version": "3.8.0-final"
  },
  "orig_nbformat": 2,
  "kernelspec": {
   "name": "python3",
   "display_name": "Python 3",
   "language": "python"
  }
 },
 "nbformat": 4,
 "nbformat_minor": 2,
 "cells": [
  {
   "cell_type": "code",
   "execution_count": 1,
   "metadata": {},
   "outputs": [],
   "source": [
    "import os\n",
    "import numpy as np\n",
    "import nibabel as nib"
   ]
  },
  {
   "cell_type": "code",
   "execution_count": 2,
   "metadata": {},
   "outputs": [],
   "source": [
    "data_dir = r\"D:\\Chris Documents\\EMTIC\\results own pc\\output\\no_tumour_lowres_selftrained_20210416_testset\""
   ]
  },
  {
   "cell_type": "code",
   "execution_count": 3,
   "metadata": {},
   "outputs": [],
   "source": [
    "data = []"
   ]
  },
  {
   "cell_type": "code",
   "execution_count": 5,
   "metadata": {},
   "outputs": [
    {
     "output_type": "stream",
     "name": "stdout",
     "text": [
      "plans.pkl\n",
      "ct_1011.nii.gz\n",
      "ct_1008.nii.gz\n",
      "ct_1017.nii.gz\n",
      "ct_1012.nii.gz\n",
      "ct_1036.nii.gz\n",
      "ct_1042.nii.gz\n",
      "ct_1037.nii.gz\n",
      "ct_1002.nii.gz\n",
      "ct_1029.nii.gz\n",
      "ct_1038.nii.gz\n"
     ]
    }
   ],
   "source": [
    "for filename in os.listdir(data_dir):\n",
    "    print(filename)\n",
    "    if filename == \"plans.pkl\":\n",
    "        continue\n",
    "    path = os.path.join(data_dir, filename)\n",
    "    img = nib.load(path)\n",
    "    data.append((filename, 1 in img.get_fdata()))"
   ]
  },
  {
   "cell_type": "code",
   "execution_count": 6,
   "metadata": {},
   "outputs": [
    {
     "output_type": "execute_result",
     "data": {
      "text/plain": [
       "10"
      ]
     },
     "metadata": {},
     "execution_count": 6
    }
   ],
   "source": [
    "len(data)"
   ]
  },
  {
   "cell_type": "code",
   "execution_count": 7,
   "metadata": {},
   "outputs": [
    {
     "output_type": "execute_result",
     "data": {
      "text/plain": [
       "[('ct_1011.nii.gz', False),\n",
       " ('ct_1008.nii.gz', False),\n",
       " ('ct_1017.nii.gz', False),\n",
       " ('ct_1012.nii.gz', False),\n",
       " ('ct_1036.nii.gz', False),\n",
       " ('ct_1042.nii.gz', False),\n",
       " ('ct_1037.nii.gz', False),\n",
       " ('ct_1002.nii.gz', False),\n",
       " ('ct_1029.nii.gz', False),\n",
       " ('ct_1038.nii.gz', True)]"
      ]
     },
     "metadata": {},
     "execution_count": 7
    }
   ],
   "source": [
    "data"
   ]
  },
  {
   "cell_type": "code",
   "execution_count": 16,
   "metadata": {},
   "outputs": [],
   "source": [
    "img = nib.load(r\"C:\\Users\\320088652\\OneDrive - Philips\\TUe\\eMTIC\\Pancreas_BB\\Pancreas_BB\\Backup Data\\20210323\\par\\labelsTs\\par_1054.nii.gz\")"
   ]
  },
  {
   "cell_type": "code",
   "execution_count": 17,
   "metadata": {},
   "outputs": [
    {
     "output_type": "execute_result",
     "data": {
      "text/plain": [
       "True"
      ]
     },
     "metadata": {},
     "execution_count": 17
    }
   ],
   "source": [
    "1 in img.get_fdata()"
   ]
  },
  {
   "cell_type": "code",
   "execution_count": null,
   "metadata": {},
   "outputs": [],
   "source": []
  }
 ]
}