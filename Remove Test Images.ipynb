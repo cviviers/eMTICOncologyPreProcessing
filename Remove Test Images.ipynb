{
 "metadata": {
  "language_info": {
   "codemirror_mode": {
    "name": "ipython",
    "version": 3
   },
   "file_extension": ".py",
   "mimetype": "text/x-python",
   "name": "python",
   "nbconvert_exporter": "python",
   "pygments_lexer": "ipython3",
   "version": "3.8.0-final"
  },
  "orig_nbformat": 2,
  "kernelspec": {
   "name": "python3",
   "display_name": "Python 3",
   "language": "python"
  }
 },
 "nbformat": 4,
 "nbformat_minor": 2,
 "cells": [
  {
   "cell_type": "code",
   "execution_count": 1,
   "source": [
    "import os, shutil\r\n"
   ],
   "outputs": [],
   "metadata": {}
  },
  {
   "cell_type": "code",
   "execution_count": 2,
   "source": [
    "official_test_set = [\"1002\",\t\"1008\", \"1011\", \"1012\", \"1017\", \"1029\", \"1036\", \"1037\", \"1038\", \"1042\", \"1054\", \"1065\", \"1071\", \"1078\", \"1079\", \"1081\", \"1085\", \"1087\", \"1093\", \"1095\"]"
   ],
   "outputs": [],
   "metadata": {}
  },
  {
   "cell_type": "code",
   "execution_count": null,
   "source": [
    "temp_test_set = [\"1002\",\t\"1008\", \"1011\", \"1012\", \"1017\", \"1029\", \"1036\", \"1037\", \"1038\", \"1042\", \"1054\", \"1065\", \"1071\", \"1078\", \"1079\", \"1081\", \"1085\", \"1087\", \"1093\", \"1095\", \"1103\",\"1110\", \"1112\", \"1118\", \"1125\", \"1127\", \"1133\", \"1138\", \"1140\", \"1145\",]"
   ],
   "outputs": [],
   "metadata": {}
  },
  {
   "cell_type": "code",
   "execution_count": 3,
   "source": [
    "directory = r\"C:\\Users\\320088652\\OneDrive - Philips\\TUe\\eMTIC\\Pancreas_BB\\Pancreas_BB\\Processed\\par\""
   ],
   "outputs": [],
   "metadata": {}
  },
  {
   "cell_type": "code",
   "execution_count": 4,
   "source": [
    "def mergefolders(root_src_dir, root_dst_dir):\r\n",
    "    for src_dir, dirs, files in os.walk(root_src_dir):\r\n",
    "        dst_dir = src_dir.replace(root_src_dir, root_dst_dir, 1)\r\n",
    "        if not os.path.exists(dst_dir):\r\n",
    "            os.makedirs(dst_dir)\r\n",
    "        for file_ in files:\r\n",
    "            src_file = os.path.join(src_dir, file_)\r\n",
    "            dst_file = os.path.join(dst_dir, file_)\r\n",
    "            if os.path.exists(dst_file):\r\n",
    "                os.remove(dst_file)\r\n",
    "            shutil.copy(src_file, dst_dir)"
   ],
   "outputs": [],
   "metadata": {}
  },
  {
   "cell_type": "code",
   "execution_count": 5,
   "source": [
    "img_directory = os.path.join(directory, \"imagesTr\")\r\n",
    "for case in os.listdir(img_directory):\r\n",
    "    \r\n",
    "    if os.path.exists(os.path.join(img_directory, case)):\r\n",
    "        print(case[4:8])\r\n",
    "        print(case[4:8] in test_set)\r\n",
    "        if case[4:8] in test_set:\r\n",
    "            print(case[4:8])\r\n",
    "            src_file = os.path.join(img_directory, case)\r\n",
    "            #case_number = case\r\n",
    "            dst_dir = os.path.join(directory, \"imagesTs\")\r\n",
    "            shutil.move(src_file, dst_dir)\r\n",
    "            #mergefolders(os.path.join(img_directory, case), os.path.join(directory, phase))"
   ],
   "outputs": [
    {
     "output_type": "stream",
     "name": "stdout",
     "text": [
      "1101\n",
      "False\n",
      "1102\n",
      "False\n",
      "1103\n",
      "False\n",
      "1104\n",
      "False\n",
      "1105\n",
      "False\n",
      "1106\n",
      "False\n",
      "1108\n",
      "False\n",
      "1109\n",
      "False\n",
      "1115\n",
      "False\n",
      "1116\n",
      "False\n",
      "1118\n",
      "False\n",
      "1120\n",
      "False\n",
      "1123\n",
      "False\n",
      "1124\n",
      "False\n"
     ]
    }
   ],
   "metadata": {}
  },
  {
   "cell_type": "code",
   "execution_count": null,
   "source": [
    "img_directory = os.path.join(directory, \"labelsTr\")\r\n",
    "for case in os.listdir(img_directory):\r\n",
    "    \r\n",
    "    if os.path.exists(os.path.join(img_directory, case)):\r\n",
    "        print(case[4:8] in test_set)\r\n",
    "        if case[4:8] in test_set:\r\n",
    "            print(case[4:8])\r\n",
    "            src_file = os.path.join(img_directory, case)\r\n",
    "            #case_number = case\r\n",
    "            dst_dir = os.path.join(directory, \"labelsTs\")\r\n",
    "            shutil.move(src_file, dst_dir)\r\n",
    "            #mergefolders(os.path.join(img_directory, case), os.path.join(directory, phase))"
   ],
   "outputs": [],
   "metadata": {}
  },
  {
   "cell_type": "code",
   "execution_count": null,
   "source": [],
   "outputs": [],
   "metadata": {}
  }
 ]
}